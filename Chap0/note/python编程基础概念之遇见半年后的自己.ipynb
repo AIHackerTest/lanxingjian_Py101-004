{
 "cells": [
  {
   "cell_type": "code",
   "execution_count": 2,
   "metadata": {},
   "outputs": [
    {
     "name": "stdout",
     "output_type": "stream",
     "text": [
      "Hello Python!\n"
     ]
    }
   ],
   "source": [
    "print(\"Hello Python!\")"
   ]
  },
  {
   "cell_type": "markdown",
   "metadata": {},
   "source": [
    "**欢迎来到Python世界！**如果你想了解下，请跟我来："
   ]
  },
  {
   "cell_type": "markdown",
   "metadata": {},
   "source": [
    "# 环境搭建"
   ]
  },
  {
   "cell_type": "markdown",
   "metadata": {},
   "source": [
    "对这个世界进行探索之前，请准备好以下装备：\n",
    "- 下载python3.6.2（https://www.python.org/downloads/release/python-362/）\n",
    "- 下载Atom（https://atom.io/）\n",
    "- 下载Cmder（http://cmder.net/）"
   ]
  },
  {
   "cell_type": "markdown",
   "metadata": {},
   "source": [
    "# 输出print()"
   ]
  },
  {
   "cell_type": "code",
   "execution_count": 3,
   "metadata": {},
   "outputs": [
    {
     "name": "stdout",
     "output_type": "stream",
     "text": [
      "Hello World!\n"
     ]
    }
   ],
   "source": [
    "print(\"Hello World!\")"
   ]
  },
  {
   "cell_type": "markdown",
   "metadata": {},
   "source": [
    "print()是我们经常会使用的，我们来看看："
   ]
  },
  {
   "cell_type": "code",
   "execution_count": 4,
   "metadata": {},
   "outputs": [
    {
     "name": "stdout",
     "output_type": "stream",
     "text": [
      "Hello World!\n",
      "Hello Again\n",
      "I like typing this\n",
      "This is fun.\n",
      "Yay! Printing.\n",
      "I'd much rather you 'not'.\n",
      "I \"said\" do not touch this.\n"
     ]
    }
   ],
   "source": [
    "print (\"Hello World!\")\n",
    "print (\"Hello Again\")\n",
    "print (\"I like typing this\")\n",
    "print (\"This is fun.\")\n",
    "print (\"Yay! Printing.\")\n",
    "print (\"I'd much rather you 'not'.\")\n",
    "print ('I \"said\" do not touch this.')"
   ]
  },
  {
   "cell_type": "markdown",
   "metadata": {},
   "source": [
    "# 计算\n",
    "\n",
    "## 基本运算"
   ]
  },
  {
   "cell_type": "markdown",
   "metadata": {},
   "source": [
    "每一种编程语言都包含处理数字和进行数字计算的方法，我们来看下Python的方式："
   ]
  },
  {
   "cell_type": "code",
   "execution_count": 5,
   "metadata": {},
   "outputs": [
    {
     "name": "stdout",
     "output_type": "stream",
     "text": [
      "I will now count my chickens:\n",
      "Hens 30.0\n",
      "Roosters 97\n",
      "Now I will count the eggs:\n",
      "6.75\n",
      "Is it true that 3 + 2 < 5 - 7?\n",
      "False\n",
      "What is 3 + 2? 5\n",
      "What is 5 - 7? -2\n",
      "Oh, that's why it's False.\n",
      "How about some more.\n",
      "Is it greater? True\n",
      "Is it greater or equal? True\n",
      "Is it less or equal? False\n"
     ]
    }
   ],
   "source": [
    "print (\"I will now count my chickens:\")\n",
    "\n",
    "print(\"Hens\",25 + 30 / 6)\n",
    "print(\"Roosters\", 100 - 25 * 3 % 4)\n",
    "\n",
    "print (\"Now I will count the eggs:\")\n",
    "\n",
    "print (3 + 2 + 1 - 5 + 4 % 2 - 1 / 4 + 6)\n",
    "\n",
    "print (\"Is it true that 3 + 2 < 5 - 7?\")\n",
    "\n",
    "print (3 + 2 < 5 - 7)\n",
    "\n",
    "print (\"What is 3 + 2?\", 3 + 2)\n",
    "print (\"What is 5 - 7?\", 5 - 7)\n",
    "\n",
    "print (\"Oh, that's why it's False.\")\n",
    "\n",
    "print (\"How about some more.\")\n",
    "\n",
    "print (\"Is it greater?\", 5 > -2)\n",
    "print (\"Is it greater or equal?\", 5 >= -2)\n",
    "print (\"Is it less or equal?\", 5 <= -2)"
   ]
  },
  {
   "cell_type": "markdown",
   "metadata": {},
   "source": [
    "*运算的优先级：括号，指数，乘，除，加，减。*"
   ]
  },
  {
   "cell_type": "markdown",
   "metadata": {},
   "source": [
    "## 不同类型的混搭\n",
    "常见的数据类型有整数，字符串和浮点数"
   ]
  },
  {
   "cell_type": "code",
   "execution_count": 6,
   "metadata": {},
   "outputs": [
    {
     "data": {
      "text/plain": [
       "'MaryBruce'"
      ]
     },
     "execution_count": 6,
     "metadata": {},
     "output_type": "execute_result"
    }
   ],
   "source": [
    "'Mary' + 'Bruce'"
   ]
  },
  {
   "cell_type": "code",
   "execution_count": 7,
   "metadata": {},
   "outputs": [
    {
     "data": {
      "text/plain": [
       "'MaryMaryMaryMary'"
      ]
     },
     "execution_count": 7,
     "metadata": {},
     "output_type": "execute_result"
    }
   ],
   "source": [
    "'Mary' * 4"
   ]
  },
  {
   "cell_type": "code",
   "execution_count": 8,
   "metadata": {},
   "outputs": [
    {
     "ename": "TypeError",
     "evalue": "must be str, not int",
     "output_type": "error",
     "traceback": [
      "\u001b[1;31m---------------------------------------------------------------------------\u001b[0m",
      "\u001b[1;31mTypeError\u001b[0m                                 Traceback (most recent call last)",
      "\u001b[1;32m<ipython-input-8-5acedb8116a5>\u001b[0m in \u001b[0;36m<module>\u001b[1;34m()\u001b[0m\n\u001b[1;32m----> 1\u001b[1;33m \u001b[1;34m'Mary'\u001b[0m \u001b[1;33m+\u001b[0m \u001b[1;36m4\u001b[0m\u001b[1;33m\u001b[0m\u001b[0m\n\u001b[0m",
      "\u001b[1;31mTypeError\u001b[0m: must be str, not int"
     ]
    }
   ],
   "source": [
    "'Mary' + 4"
   ]
  },
  {
   "cell_type": "code",
   "execution_count": 10,
   "metadata": {},
   "outputs": [
    {
     "ename": "TypeError",
     "evalue": "can't multiply sequence by non-int of type 'float'",
     "output_type": "error",
     "traceback": [
      "\u001b[1;31m---------------------------------------------------------------------------\u001b[0m",
      "\u001b[1;31mTypeError\u001b[0m                                 Traceback (most recent call last)",
      "\u001b[1;32m<ipython-input-10-cf2d71a7c145>\u001b[0m in \u001b[0;36m<module>\u001b[1;34m()\u001b[0m\n\u001b[1;32m----> 1\u001b[1;33m \u001b[1;34m'Mart'\u001b[0m \u001b[1;33m*\u001b[0m \u001b[1;36m4.0\u001b[0m\u001b[1;33m\u001b[0m\u001b[0m\n\u001b[0m",
      "\u001b[1;31mTypeError\u001b[0m: can't multiply sequence by non-int of type 'float'"
     ]
    }
   ],
   "source": [
    "'Mart' * 4.0"
   ]
  },
  {
   "cell_type": "markdown",
   "metadata": {},
   "source": [
    "# 变量\n",
    "## 变量和命名\n",
    "变量就是用来指代某个东西的名字，程序员用这个来让程序读起来更方便一些。"
   ]
  },
  {
   "cell_type": "code",
   "execution_count": 11,
   "metadata": {},
   "outputs": [
    {
     "name": "stdout",
     "output_type": "stream",
     "text": [
      "Let's talk about Landon.\n",
      "He's 168cm tall.\n",
      "He's 61kg heavy.\n",
      "Actually that's not too heavy.\n",
      "He's got black eyes and black hair.\n",
      "His teeth are usually White depending on the coffee.\n",
      "If I add 24, 168, and 61 I get 253.\n",
      "\n",
      "Let's talk about  Landon\n",
      "He's got black eyes and black hair.\n"
     ]
    }
   ],
   "source": [
    "name = 'Landon'\n",
    "age = 24\n",
    "height = 168 # cm\n",
    "weight = 61 # kg\n",
    "eyes = 'black'\n",
    "teeth = 'White'\n",
    "hair = \"black\"\n",
    "\n",
    "print (\"Let's talk about %s.\" %name)\n",
    "print (\"He's %dcm tall.\" % height)\n",
    "print (\"He's %dkg heavy.\" % weight)\n",
    "print (\"Actually that's not too heavy.\")\n",
    "print (\"He's got %s eyes and %s hair.\" % (eyes, hair))\n",
    "print (\"His teeth are usually %s depending on the coffee.\" % teeth)\n",
    "\n",
    "# this line is tricky , try to get it exactly right\n",
    "\n",
    "print (\"If I add %d, %d, and %d I get %d.\" % (age, height, weight\n",
    ", age + height + weight))\n",
    "\n",
    "# just output it ,why to make it so complex to replace with the tool of %,it makes me puzzled?\n",
    "\n",
    "# i can just complish it like this\n",
    "print (\"\")\n",
    "print (\"Let's talk about \", name)\n",
    "print (\"He's got\",eyes, \"eyes and\",hair,\"hair.\")\n",
    "\n",
    "# it seems that the first one code is more simple ~~"
   ]
  },
  {
   "cell_type": "markdown",
   "metadata": {},
   "source": [
    "变量的命名需要遵守以下三个条件：\n",
    "- It can be only one word.\n",
    "- It can use only letters, numbers, and the underscore (_) character.\n",
    "- It can’t begin with a number."
   ]
  },
  {
   "cell_type": "markdown",
   "metadata": {},
   "source": [
    "## 提示和传递\n",
    "变量常和接收外界数据一起使用，这个会让我们感觉很好玩"
   ]
  },
  {
   "cell_type": "code",
   "execution_count": 12,
   "metadata": {},
   "outputs": [
    {
     "name": "stdout",
     "output_type": "stream",
     "text": [
      "How old are you?24\n",
      "How tall are you ?168\n",
      "How much do you weigh ? 61\n",
      "So, you're '24' old ,'168' tall and '61' heavy.\n"
     ]
    }
   ],
   "source": [
    "age = input(\"How old are you?\")\n",
    "height = input(\"How tall are you ?\")\n",
    "weight = input(\"How much do you weigh ? \")\n",
    "\n",
    "print (\"So, you're %r old ,%r tall and %r heavy.\" %(age , height,weight))"
   ]
  },
  {
   "cell_type": "markdown",
   "metadata": {},
   "source": [
    "# 函数\n",
    "函数可以做以下三件事情：\n",
    "- 他们给代码段命名，跟“变量”给字符串和数命名一样\n",
    "- 他们呢可以接收参数\n",
    "- 使用#1和#2，他们可以让你创建“迷你脚本\"或者\"小命令\"\n",
    "## 函数定义和命名"
   ]
  },
  {
   "cell_type": "code",
   "execution_count": 14,
   "metadata": {},
   "outputs": [
    {
     "name": "stdout",
     "output_type": "stream",
     "text": [
      "arg1: 'Zed', arg2: 'Shaw'\n",
      "arg1: 'Zed', arg2: 'Shaw'\n",
      "arg1:'First!'\n",
      "I got nothin\n"
     ]
    }
   ],
   "source": [
    "# this one is like your scripts with argv\n",
    "def print_two(*args):\n",
    "    arg1, arg2 = args\n",
    "    print (\"arg1: %r, arg2: %r\" %(arg1, arg2))\n",
    "\n",
    "# ok, that *argv is actually pointless, we can just do this\n",
    "def print_two_again(arg1, arg2):\n",
    "    print (\"arg1: %r, arg2: %r\" %(arg1, arg2))\n",
    "\n",
    "#this just takes one argument\n",
    "def print_one(arg1):\n",
    "    print (\"arg1:%r\" % arg1)\n",
    "\n",
    "# this one takes no argument\n",
    "def print_none():\n",
    "    print (\"I got nothin\")\n",
    "\n",
    "\n",
    "print_two(\"Zed\",\"Shaw\")\n",
    "print_two_again(\"Zed\",\"Shaw\")\n",
    "print_one(\"First!\")\n",
    "print_none()"
   ]
  },
  {
   "cell_type": "markdown",
   "metadata": {},
   "source": [
    "## 函数与变量"
   ]
  },
  {
   "cell_type": "code",
   "execution_count": 16,
   "metadata": {},
   "outputs": [
    {
     "name": "stdout",
     "output_type": "stream",
     "text": [
      "We can just give the function numbers directly:\n",
      "You have 20 cheeses!\n",
      "You have 30 boxes of crackers!\n",
      "Man that's enough for a party!\n",
      "Get a blanket.\n",
      "\n",
      "OR, we can use variables from our script:\n",
      "You have 10 cheeses!\n",
      "You have 50 boxes of crackers!\n",
      "Man that's enough for a party!\n",
      "Get a blanket.\n",
      "\n",
      "We can even do math inside too:\n",
      "You have 30 cheeses!\n",
      "You have 11 boxes of crackers!\n",
      "Man that's enough for a party!\n",
      "Get a blanket.\n",
      "\n",
      "And we can combine the two, variables and math:\n",
      "You have 110 cheeses!\n",
      "You have 1050 boxes of crackers!\n",
      "Man that's enough for a party!\n",
      "Get a blanket.\n",
      "\n"
     ]
    }
   ],
   "source": [
    "def cheese_and_crackers(cheese_count, boxes_of_crackers):\n",
    "    print (\"You have %d cheeses!\" % cheese_count)\n",
    "    print(\"You have %d boxes of crackers!\" % boxes_of_crackers)\n",
    "    print(\"Man that's enough for a party!\")\n",
    "    print(\"Get a blanket.\\n\")\n",
    "\n",
    "\n",
    "print(\"We can just give the function numbers directly:\")\n",
    "cheese_and_crackers(20,30)\n",
    "\n",
    "\n",
    "print (\"OR, we can use variables from our script:\")\n",
    "amount_of_cheese = 10\n",
    "amount_of_crackers = 50\n",
    "\n",
    "cheese_and_crackers(amount_of_cheese, amount_of_crackers)\n",
    "\n",
    "\n",
    "print(\"We can even do math inside too:\")\n",
    "cheese_and_crackers(10 + 20, 5 +6)\n",
    "\n",
    "\n",
    "print(\"And we can combine the two, variables and math:\")\n",
    "cheese_and_crackers(amount_of_cheese + 100, amount_of_crackers + 1000)\n"
   ]
  },
  {
   "cell_type": "markdown",
   "metadata": {},
   "source": [
    "# 条件语句"
   ]
  },
  {
   "cell_type": "code",
   "execution_count": 18,
   "metadata": {},
   "outputs": [
    {
     "name": "stdout",
     "output_type": "stream",
     "text": [
      "You enter a dark room with two doors. Do you go through door #1 or door #2?\n",
      "> 1\n",
      "There's a giant bear here eating a cheese cake. What do you do?\n",
      "1. Take the cake.\n",
      "2. Scream at the bear.\n",
      "> 2\n",
      "The bear eats your legs off.  Good job!\n"
     ]
    }
   ],
   "source": [
    "print(\"You enter a dark room with two doors. Do you go through door #1 or door #2?\")\n",
    "\n",
    "door = input(\"> \")\n",
    "\n",
    "if door == \"1\":\n",
    "    print(\"There's a giant bear here eating a cheese cake. What do you do?\")\n",
    "    print(\"1. Take the cake.\")\n",
    "    print(\"2. Scream at the bear.\")\n",
    "\n",
    "    bear = input(\"> \")\n",
    "\n",
    "    if bear == \"1\":\n",
    "        print(\"The bear eats your face off.  Good job!\")\n",
    "    elif bear == \"2\":\n",
    "        print(\"The bear eats your legs off.  Good job!\")\n",
    "    else:\n",
    "        print(\"Well, doing %s is probably better. Bear runs away.\" % bear)\n",
    "elif door == \"2\":\n",
    "    print(\"You stare into the endless abyss at Cthulhu's retina.\")\n",
    "    print(\"1. Blueberries.\")\n",
    "    print(\"2. Yellow jacket clothespins.\")\n",
    "    print(\"3. Uderstanding revolvers yelling melodies.\")\n",
    "\n",
    "    insanity = input(\"> \")\n",
    "\n",
    "    if insanity == \"1\" or insanity == \"2\":\n",
    "        print(\"Your body survives powered by mind of jello.  Good job!\")\n",
    "    else:\n",
    "        print(\"The insanity rots your eyes into a pool of muck.  Good job!\")\n",
    "\n",
    "\n",
    "else:\n",
    "    print(\"You stumble around and fall on a knife and die.  Good job!\")\n"
   ]
  },
  {
   "cell_type": "markdown",
   "metadata": {},
   "source": [
    "# 循环语句"
   ]
  },
  {
   "cell_type": "code",
   "execution_count": null,
   "metadata": {},
   "outputs": [],
   "source": [
    "the_count = [1, 2, 3, 4,5]\n",
    "fruits= ['apples', 'oranges', 'pears', 'apricots']\n",
    "change = [1, 'pennies', 2, 'dimes', 3, 'quarters']\n",
    "\n",
    "#this first kind of for-loop goes through a list\n",
    "for number in the_count:\n",
    "    print(\"This is count %d \" % number)\n",
    "\n",
    "# same sa above\n",
    "for fruit in fruits:\n",
    "    print (\"A fruit of type: %s\" % fruit)\n",
    "\n",
    "#also we can go through mixed lists too\n",
    "#notice we have to use %r since we don't know what's in it\n",
    "for i in change:\n",
    "    print(\"I got %r\" % i)\n",
    "\n",
    "# we can also bulid lists, first start with an empty one\n",
    "elements = []\n",
    "\n",
    "# then use the range function to do 0 to 5 counts\n",
    "for i in list(range(0,6)):\n",
    "    print(\"Adding %d to the list.\" % i)\n",
    "    # append is a function that lists understand\n",
    "    elements.append(i)\n",
    "\n",
    "# now we can print them out too\n",
    "for i in elements:\n",
    "    print(\"Element was: %d\" % i)"
   ]
  },
  {
   "cell_type": "code",
   "execution_count": null,
   "metadata": {
    "collapsed": true
   },
   "outputs": [],
   "source": [
    "i = 0\n",
    "numbers = []\n",
    "\n",
    "while i < 6:\n",
    "    print(\"At the top i is %d\" % i)\n",
    "    numbers.append(i)\n",
    "\n",
    "    i += 1\n",
    "    print(\"Numbers now:\", numbers)\n",
    "    print(\"At the bottom i is %d\" % i)\n",
    "\n",
    "\n",
    "print(\"The numbers:\")\n",
    "\n",
    "for num in numbers:\n",
    "    print (num)\n"
   ]
  },
  {
   "cell_type": "markdown",
   "metadata": {},
   "source": [
    "- 对于基本技能，只能多练练\n",
    "- 前期踩的坑多了，以后的弯路就少了\n",
    "- 先给个demo，后期慢慢补充"
   ]
  }
 ],
 "metadata": {
  "kernelspec": {
   "display_name": "Python 3",
   "language": "python",
   "name": "python3"
  },
  "language_info": {
   "codemirror_mode": {
    "name": "ipython",
    "version": 3
   },
   "file_extension": ".py",
   "mimetype": "text/x-python",
   "name": "python",
   "nbconvert_exporter": "python",
   "pygments_lexer": "ipython3",
   "version": "3.6.1"
  }
 },
 "nbformat": 4,
 "nbformat_minor": 2
}
